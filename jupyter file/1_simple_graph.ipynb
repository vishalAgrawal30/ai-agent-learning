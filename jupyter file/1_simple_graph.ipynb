{
 "cells": [
  {
   "cell_type": "markdown",
   "id": "f9446897b1c6a567",
   "metadata": {},
   "source": [
    "Create the State of the class"
   ]
  },
  {
   "cell_type": "code",
   "execution_count": 1,
   "id": "a38a7bde9e8ff559",
   "metadata": {
    "ExecuteTime": {
     "end_time": "2025-08-18T08:46:47.542866Z",
     "start_time": "2025-08-18T08:46:47.537636Z"
    },
    "collapsed": true
   },
   "outputs": [],
   "source": [
    "from typing import TypedDict\n",
    "class PortfolioState(TypedDict):\n",
    "    amount_usd:float\n",
    "    total_usd:float\n",
    "    total_inr:float"
   ]
  },
  {
   "cell_type": "markdown",
   "id": "bda0274ba706547",
   "metadata": {},
   "source": [
    "Create the Nodes For calculating the intrest and convert it into InR"
   ]
  },
  {
   "cell_type": "code",
   "execution_count": 2,
   "id": "997760ccdf9b816e",
   "metadata": {
    "ExecuteTime": {
     "end_time": "2025-08-18T08:51:39.014546Z",
     "start_time": "2025-08-18T08:51:38.998413Z"
    }
   },
   "outputs": [],
   "source": [
    "def calc(state:PortfolioState) -> PortfolioState:\n",
    "    state['total_usd'] = state['amount_usd'] * 1.08\n",
    "    return state\n",
    "\n",
    "def convert_to_inr(state:PortfolioState) -> PortfolioState:\n",
    "    state['total_inr'] = state['total_usd'] * 85\n",
    "    return  state"
   ]
  },
  {
   "cell_type": "markdown",
   "id": "c7162b5b0beefa8b",
   "metadata": {},
   "source": [
    "<h3>Create the Edges</h3>\n",
    "<ol>\n",
    "<b><li>add_node() is a Function to create the nodes</li><b>\n",
    "syntax: add_node('node_name',related_function)<br>\n",
    "\n",
    "<b><li>add_edge() is a function that create the edges between the nodes</li></b>\n",
    "syntax: add_edge(above_node,end_node)\n",
    "</ol>"
   ]
  },
  {
   "cell_type": "code",
   "execution_count": 3,
   "id": "518e0e2601131836",
   "metadata": {
    "ExecuteTime": {
     "end_time": "2025-08-18T08:56:29.908892Z",
     "start_time": "2025-08-18T08:56:29.879990Z"
    }
   },
   "outputs": [],
   "source": [
    "from langgraph.graph import StateGraph,START,END\n",
    "\n",
    "builder = StateGraph(PortfolioState)\n",
    "\n",
    "builder.add_node('calc_total',calc)\n",
    "builder.add_node('convert_to_inr',convert_to_inr)\n",
    "\n",
    "builder.add_edge(START,'calc_total')\n",
    "builder.add_edge('calc_total','convert_to_inr')\n",
    "builder.add_edge('convert_to_inr',END)\n",
    "\n",
    "graph = builder.compile()"
   ]
  },
  {
   "cell_type": "code",
   "execution_count": 4,
   "id": "85de04b3beb26795",
   "metadata": {
    "ExecuteTime": {
     "end_time": "2025-08-18T08:57:48.414519Z",
     "start_time": "2025-08-18T08:57:47.422095Z"
    }
   },
   "outputs": [
    {
     "data": {
      "image/png": "[encoded data removed]",
      "text/plain": [
       "<IPython.core.display.Image object>"
      ]
     },
     "metadata": {},
     "output_type": "display_data"
    }
   ],
   "source": [
    "from IPython.display import Image,display\n",
    "\n",
    "display(Image(graph.get_graph().draw_mermaid_png()))"
   ]
  },
  {
   "cell_type": "code",
   "execution_count": 5,
   "id": "6ebabf2749261fea",
   "metadata": {
    "ExecuteTime": {
     "end_time": "2025-08-18T09:04:25.410947Z",
     "start_time": "2025-08-18T09:04:25.399954Z"
    }
   },
   "outputs": [
    {
     "data": {
      "text/plain": [
       "{'amount_usd': 150.2, 'total_usd': 162.216, 'total_inr': 13788.36}"
      ]
     },
     "execution_count": 5,
     "metadata": {},
     "output_type": "execute_result"
    }
   ],
   "source": [
    "graph.invoke({'amount_usd':150.2})"
   ]
  }
 ],
 "metadata": {
  "kernelspec": {
   "display_name": ".venv",
   "language": "python",
   "name": "python3"
  },
  "language_info": {
   "codemirror_mode": {
    "name": "ipython",
    "version": 3
   },
   "file_extension": ".py",
   "mimetype": "text/x-python",
   "name": "python",
   "nbconvert_exporter": "python",
   "pygments_lexer": "ipython3",
   "version": "3.12.4"
  }
 },
 "nbformat": 4,
 "nbformat_minor": 5
}
